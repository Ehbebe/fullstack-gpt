{
 "cells": [
  {
   "cell_type": "markdown",
   "metadata": {},
   "source": [
    "# Day 15"
   ]
  },
  {
   "cell_type": "code",
   "execution_count": 1,
   "metadata": {},
   "outputs": [
    {
     "name": "stdout",
     "output_type": "stream",
     "text": [
      "Great choice! How about making a classic Spaghetti Carbonara? Here's a simple recipe for you to try:\n",
      "\n",
      "Ingredients:\n",
      "- 8 oz spaghetti\n",
      "- 4 oz pancetta or bacon, diced\n",
      "- 2 cloves garlic, minced\n",
      "- 2 large eggs\n",
      "- 1 cup grated Parmesan cheese\n",
      "- Salt and pepper to taste\n",
      "- Fresh parsley, chopped (for garnish)\n",
      "\n",
      "Instructions:\n",
      "1. Cook the spaghetti according to package instructions until al dente. Reserve 1 cup of pasta water before draining the spaghetti.\n",
      "\n",
      "2. In a large skillet, cook the pancetta over medium heat until crispy. Add the minced garlic and cook for another minute.\n",
      "\n",
      "3. In a bowl, whisk together the eggs, grated Parmesan cheese, salt, and pepper.\n",
      "\n",
      "4. Add the cooked spaghetti to the skillet with the pancetta and garlic. Toss to combine.\n",
      "\n",
      "5. Remove the skillet from heat and quickly pour in the egg and cheese mixture, stirring continuously to coat the spaghetti. If the sauce is too thick, add a little pasta water to loosen it up.\n",
      "\n",
      "6. Serve the Spaghetti Carbonara hot, garnished with chopped parsley and extra Parmesan cheese if desired.\n",
      "\n",
      "Enjoy your delicious Italian meal! Buon appetito!For a vegetarian version of Spaghetti Carbonara, you can easily substitute the pancetta or bacon with a vegetarian alternative such as vegetarian bacon or smoked tofu. Here's how you can prepare these alternatives:\n",
      "\n",
      "1. Vegetarian Bacon:\n",
      "Ingredients:\n",
      "- 4 oz vegetarian bacon strips\n",
      "Instructions:\n",
      "- Heat a non-stick skillet over medium heat.\n",
      "- Add the vegetarian bacon strips and cook until crispy, following the package instructions.\n",
      "- Once crispy, remove from the skillet and chop into small pieces to mimic the texture of pancetta or bacon.\n",
      "\n",
      "2. Smoked Tofu:\n",
      "Ingredients:\n",
      "- 4 oz smoked tofu, diced\n",
      "Instructions:\n",
      "- Heat a non-stick skillet over medium heat.\n",
      "- Add the diced smoked tofu and cook until lightly browned and slightly crispy.\n",
      "- Remove from the skillet and set aside to add to the spaghetti later.\n",
      "\n",
      "By using these vegetarian alternatives, you can still enjoy the rich and savory flavors of Spaghetti Carbonara without compromising on taste. Enjoy your vegetarian Italian meal! Buon appetito!"
     ]
    },
    {
     "data": {
      "text/plain": [
       "AIMessageChunk(content=\"For a vegetarian version of Spaghetti Carbonara, you can easily substitute the pancetta or bacon with a vegetarian alternative such as vegetarian bacon or smoked tofu. Here's how you can prepare these alternatives:\\n\\n1. Vegetarian Bacon:\\nIngredients:\\n- 4 oz vegetarian bacon strips\\nInstructions:\\n- Heat a non-stick skillet over medium heat.\\n- Add the vegetarian bacon strips and cook until crispy, following the package instructions.\\n- Once crispy, remove from the skillet and chop into small pieces to mimic the texture of pancetta or bacon.\\n\\n2. Smoked Tofu:\\nIngredients:\\n- 4 oz smoked tofu, diced\\nInstructions:\\n- Heat a non-stick skillet over medium heat.\\n- Add the diced smoked tofu and cook until lightly browned and slightly crispy.\\n- Remove from the skillet and set aside to add to the spaghetti later.\\n\\nBy using these vegetarian alternatives, you can still enjoy the rich and savory flavors of Spaghetti Carbonara without compromising on taste. Enjoy your vegetarian Italian meal! Buon appetito!\")"
      ]
     },
     "execution_count": 1,
     "metadata": {},
     "output_type": "execute_result"
    }
   ],
   "source": [
    "from langchain.chat_models import ChatOpenAI\n",
    "from langchain.prompts import ChatPromptTemplate\n",
    "from langchain.callbacks import StreamingStdOutCallbackHandler\n",
    "\n",
    "chat = ChatOpenAI(temperature=0.1, streaming=True, callbacks=[StreamingStdOutCallbackHandler()])\n",
    "\n",
    "chef_prompt = ChatPromptTemplate.from_messages([\n",
    "    ('system', \"You are a world-class international chef. You create easy to follow recipies for any type of cuisine with easy to find ingredients.\"),\n",
    "    ('human', \"I want to cook {cuisine} food.\")\n",
    "])\n",
    "\n",
    "chef_chain = chef_prompt | chat\n",
    "\n",
    "veg_chef_prompt = ChatPromptTemplate.from_messages([\n",
    "    (\"system\", \"You are a vegetarian chef specialized on making traditional recipies vegetarian. You find alternative ingredients and explain their preparation. You don't radically modify the recipe. If there is no alternative for a food just say you don't know how to replace it.\"),\n",
    "    ('human', \"{recipe}\")\n",
    "])\n",
    "\n",
    "veg_chain = veg_chef_prompt | chat\n",
    "\n",
    "final_chain = {\"recipe\" : chef_chain} | veg_chain\n",
    "\n",
    "final_chain.invoke({\n",
    "    \"cuisine\" : \"Italian\",\n",
    "})"
   ]
  }
 ],
 "metadata": {
  "kernelspec": {
   "display_name": "fullstack-gpt",
   "language": "python",
   "name": "python3"
  },
  "language_info": {
   "codemirror_mode": {
    "name": "ipython",
    "version": 3
   },
   "file_extension": ".py",
   "mimetype": "text/x-python",
   "name": "python",
   "nbconvert_exporter": "python",
   "pygments_lexer": "ipython3",
   "version": "3.11.0"
  }
 },
 "nbformat": 4,
 "nbformat_minor": 2
}
