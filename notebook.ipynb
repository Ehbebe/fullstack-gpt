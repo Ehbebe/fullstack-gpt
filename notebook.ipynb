{
 "cells": [
  {
   "cell_type": "markdown",
   "metadata": {},
   "source": [
    "# 3. Welcome To LangChain - Recap"
   ]
  },
  {
   "cell_type": "code",
   "execution_count": 1,
   "metadata": {},
   "outputs": [
    {
     "name": "stdout",
     "output_type": "stream",
     "text": [
      "Great choice! Italian cuisine is known for its delicious flavors and simple ingredients. Let's start with a classic recipe for Spaghetti Aglio e Olio, a traditional Italian pasta dish.\n",
      "\n",
      "Ingredients:\n",
      "- 1/2 pound spaghetti\n",
      "- 4 cloves of garlic, thinly sliced\n",
      "- 1/4 cup extra virgin olive oil\n",
      "- 1/2 teaspoon red pepper flakes\n",
      "- Salt and pepper to taste\n",
      "- Fresh parsley, chopped (for garnish)\n",
      "- Grated Parmesan cheese (optional)\n",
      "\n",
      "Instructions:\n",
      "1. Cook the spaghetti in a large pot of salted boiling water according to the package instructions until al dente. Reserve 1 cup of pasta water before draining the spaghetti.\n",
      "\n",
      "2. In a large skillet, heat the olive oil over medium heat. Add the sliced garlic and red pepper flakes, and sauté until the garlic is golden brown and fragrant, about 1-2 minutes. Be careful not to burn the garlic.\n",
      "\n",
      "3. Add the cooked spaghetti to the skillet along with a splash of the reserved pasta water. Toss the spaghetti in the garlic-infused oil until well coated. If the pasta seems dry, add more pasta water as needed.\n",
      "\n",
      "4. Season the spaghetti with salt and pepper to taste. Continue to toss the spaghetti in the skillet for another minute to allow the flavors to meld together.\n",
      "\n",
      "5. Remove the skillet from heat and garnish the spaghetti aglio e olio with chopped parsley. Serve hot with a sprinkle of grated Parmesan cheese, if desired.\n",
      "\n",
      "Enjoy your homemade Spaghetti Aglio e Olio, a simple yet flavorful Italian dish that is sure to impress! Buon appetito!For the Spaghetti Aglio e Olio recipe, here are some vegetarian alternatives for the ingredients:\n",
      "\n",
      "1. **Spaghetti**: You can use whole wheat spaghetti or gluten-free spaghetti if you prefer.\n",
      "   \n",
      "2. **Extra Virgin Olive Oil**: No need to change this ingredient, as it's already vegetarian.\n",
      "\n",
      "3. **Garlic**: Garlic is a key ingredient in this recipe and doesn't need to be substituted.\n",
      "\n",
      "4. **Red Pepper Flakes**: Red pepper flakes add a nice kick to the dish. If you prefer a milder heat, you can reduce the amount or omit them altogether.\n",
      "\n",
      "5. **Salt and Pepper**: These can remain the same.\n",
      "\n",
      "6. **Fresh Parsley**: Fresh parsley is a great herb to garnish the dish. You can also use fresh basil or chives for a different flavor profile.\n",
      "\n",
      "7. **Grated Parmesan Cheese**: You can use vegetarian-friendly Parmesan cheese or nutritional yeast as a substitute for the traditional Parmesan cheese. Nutritional yeast has a cheesy flavor and adds a nice umami touch to the dish.\n",
      "\n",
      "Follow the same instructions provided in the recipe, using these vegetarian alternatives, and you'll have a delicious vegetarian version of Spaghetti Aglio e Olio. Enjoy your meal!"
     ]
    },
    {
     "data": {
      "text/plain": [
       "AIMessageChunk(content=\"For the Spaghetti Aglio e Olio recipe, here are some vegetarian alternatives for the ingredients:\\n\\n1. **Spaghetti**: You can use whole wheat spaghetti or gluten-free spaghetti if you prefer.\\n   \\n2. **Extra Virgin Olive Oil**: No need to change this ingredient, as it's already vegetarian.\\n\\n3. **Garlic**: Garlic is a key ingredient in this recipe and doesn't need to be substituted.\\n\\n4. **Red Pepper Flakes**: Red pepper flakes add a nice kick to the dish. If you prefer a milder heat, you can reduce the amount or omit them altogether.\\n\\n5. **Salt and Pepper**: These can remain the same.\\n\\n6. **Fresh Parsley**: Fresh parsley is a great herb to garnish the dish. You can also use fresh basil or chives for a different flavor profile.\\n\\n7. **Grated Parmesan Cheese**: You can use vegetarian-friendly Parmesan cheese or nutritional yeast as a substitute for the traditional Parmesan cheese. Nutritional yeast has a cheesy flavor and adds a nice umami touch to the dish.\\n\\nFollow the same instructions provided in the recipe, using these vegetarian alternatives, and you'll have a delicious vegetarian version of Spaghetti Aglio e Olio. Enjoy your meal!\")"
      ]
     },
     "execution_count": 1,
     "metadata": {},
     "output_type": "execute_result"
    }
   ],
   "source": [
    "from langchain.chat_models import ChatOpenAI\n",
    "from langchain.prompts import ChatPromptTemplate\n",
    "from langchain.callbacks import StreamingStdOutCallbackHandler\n",
    "\n",
    "chat = ChatOpenAI(temperature=0.1, streaming=True, callbacks=[StreamingStdOutCallbackHandler()])\n",
    "\n",
    "chef_prompt = ChatPromptTemplate.from_messages([\n",
    "    ('system', \"You are a world-class international chef. You create easy to follow recipies for any type of cuisine with easy to find ingredients.\"),\n",
    "    ('human', \"I want to cook {cuisine} food.\")\n",
    "])\n",
    "\n",
    "chef_chain = chef_prompt | chat\n",
    "\n",
    "veg_chef_prompt = ChatPromptTemplate.from_messages([\n",
    "    (\"system\", \"You are a vegetarian chef specialized on making traditional recipies vegetarian. You find alternative ingredients and explain their preparation. You don't radically modify the recipe. If there is no alternative for a food just say you don't know how to replace it.\"),\n",
    "    ('human', \"{recipe}\")\n",
    "])\n",
    "\n",
    "veg_chain = veg_chef_prompt | chat\n",
    "\n",
    "final_chain = {\"recipe\" : chef_chain} | veg_chain\n",
    "\n",
    "final_chain.invoke({\n",
    "    \"cuisine\" : \"Italian\",\n",
    "})"
   ]
  },
  {
   "cell_type": "markdown",
   "metadata": {},
   "source": [
    "# LCEL Chains Challenge"
   ]
  },
  {
   "cell_type": "code",
   "execution_count": 2,
   "metadata": {},
   "outputs": [
    {
     "name": "stdout",
     "output_type": "stream",
     "text": [
      "파이썬 코드,\n",
      "간결하고 강력한,\n",
      "프로그래밍 덕후.Unexpected chunk format or type: ('additional_kwargs', {})\n",
      "Unexpected chunk format or type: ('type', 'AIMessageChunk')\n",
      "Unexpected chunk format or type: ('example', False)\n",
      "이 하이쿠는 파이썬 프로그래밍 언어에 대한 감탄과 애정을 담고 있습니다. \"파이썬 코드\"는 파이썬 언어를 가리키며, \"간결하고 강력한\"은 파이썬의 간결한 문법과 풍부한 기능을 나타냅니다. 마지막 줄인 \"프로그래밍 덕후\"는 파이썬을 좋아하고 열정적으로 사용하는 프로그래머들을 지칭합니다. 이 하이쿠는 파이썬의 매력과 사용자들의 열정을 표현하고 있습니다.Unexpected chunk format or type: ('additional_kwargs', {})\n",
      "Unexpected chunk format or type: ('type', 'AIMessageChunk')\n",
      "Unexpected chunk format or type: ('example', False)\n",
      "{'haiku': '파이썬 코드,\\n간결하고 강력한,\\n프로그래밍 덕후.', 'explanation': '이 하이쿠는 파이썬 프로그래밍 언어에 대한 감탄과 애정을 담고 있습니다. \"파이썬 코드\"는 파이썬 언어를 가리키며, \"간결하고 강력한\"은 파이썬의 간결한 문법과 풍부한 기능을 나타냅니다. 마지막 줄인 \"프로그래밍 덕후\"는 파이썬을 좋아하고 열정적으로 사용하는 프로그래머들을 지칭합니다. 이 하이쿠는 파이썬의 매력과 사용자들의 열정을 표현하고 있습니다.'}\n"
     ]
    }
   ],
   "source": [
    "# 필요한 라이브러리 import\n",
    "from langchain.chat_models import ChatOpenAI\n",
    "from langchain.prompts import ChatPromptTemplate\n",
    "from langchain.callbacks import StreamingStdOutCallbackHandler\n",
    "\n",
    "# ChatOpenAI model setting\n",
    "chat = ChatOpenAI(model=\"gpt-3.5-turbo\", temperature=0.1, streaming=True, callbacks=[StreamingStdOutCallbackHandler()])\n",
    "\n",
    "# chain that is specialized in writing Haikus about programming languages\n",
    "haiku_prompt = ChatPromptTemplate.from_messages([\n",
    "    ('system', \"프로그래밍 언어에 대한 하이쿠를 작성하는 시인입니다.\"),\n",
    "    ('human', \"{programming_language}에 대한 하이쿠를 작성하세요.\")\n",
    "])\n",
    "haiku_chain = haiku_prompt | chat\n",
    "\n",
    "# chain that is specialized in explaining Haikus\n",
    "explanation_prompt = ChatPromptTemplate.from_messages([\n",
    "    (\"system\", \"프로그래밍 언어에 대한 하이쿠의 더 깊은 의미를 설명하는 전문가입니다.\"),\n",
    "    ('human', \"이 하이쿠를 설명하세요: {haiku}\")\n",
    "])\n",
    "explanation_chain = explanation_prompt | chat\n",
    "\n",
    "def handle_streaming_response(streaming_response):\n",
    "    accumulated_text = ''\n",
    "    for chunk in streaming_response:\n",
    "        if isinstance(chunk, dict) and 'text' in chunk:\n",
    "            accumulated_text += chunk['text']\n",
    "        elif isinstance(chunk, tuple) and chunk[0] == 'content':\n",
    "            accumulated_text += chunk[1]\n",
    "        else:\n",
    "            print(f\"Unexpected chunk format or type: {chunk}\")\n",
    "    return accumulated_text\n",
    "\n",
    "def connect_chains_and_provide_explanation(programming_language):\n",
    "    try:\n",
    "        haiku_response = haiku_chain.invoke({\"programming_language\": programming_language})\n",
    "        haiku_text = handle_streaming_response(haiku_response)\n",
    "\n",
    "        explanation_response = explanation_chain.invoke({\"haiku\": haiku_text})\n",
    "        explanation_text = handle_streaming_response(explanation_response)\n",
    "\n",
    "        return {\"haiku\": haiku_text, \"explanation\": explanation_text}\n",
    "    except Exception as e:\n",
    "        print(f\"Chain processing error: {e}\")\n",
    "        return {}\n",
    "\n",
    "# Python에 대한 Haikus 와 설명 출력\n",
    "result = connect_chains_and_provide_explanation(\"Python\")\n",
    "print(result)\n"
   ]
  },
  {
   "cell_type": "code",
   "execution_count": null,
   "metadata": {},
   "outputs": [],
   "source": []
  }
 ],
 "metadata": {
  "kernelspec": {
   "display_name": "fullstack-gpt",
   "language": "python",
   "name": "python3"
  },
  "language_info": {
   "codemirror_mode": {
    "name": "ipython",
    "version": 3
   },
   "file_extension": ".py",
   "mimetype": "text/x-python",
   "name": "python",
   "nbconvert_exporter": "python",
   "pygments_lexer": "ipython3",
   "version": "3.11.0"
  }
 },
 "nbformat": 4,
 "nbformat_minor": 2
}
